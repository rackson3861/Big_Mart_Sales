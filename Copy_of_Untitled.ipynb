{
  "nbformat": 4,
  "nbformat_minor": 0,
  "metadata": {
    "colab": {
      "name": "Copy of Untitled",
      "version": "0.3.2",
      "provenance": [],
      "collapsed_sections": [],
      "include_colab_link": true
    },
    "kernelspec": {
      "name": "python3",
      "display_name": "Python 3"
    },
    "accelerator": "GPU"
  },
  "cells": [
    {
      "cell_type": "markdown",
      "metadata": {
        "id": "view-in-github",
        "colab_type": "text"
      },
      "source": [
        "<a href=\"https://colab.research.google.com/github/rackson3861/Big_Mart_Sales/blob/master/Copy_of_Untitled.ipynb\" target=\"_parent\"><img src=\"https://colab.research.google.com/assets/colab-badge.svg\" alt=\"Open In Colab\"/></a>"
      ]
    },
    {
      "cell_type": "code",
      "metadata": {
        "id": "JWe_cgxUQgNC",
        "colab_type": "code",
        "colab": {}
      },
      "source": [
        "from bs4 import BeautifulSoup\n",
        "import requests\n",
        "import pandas as pd\n",
        "\n",
        "d={\"key\":\"value\"}\n",
        "\n",
        "d[\"new key\"] = \"new value\"\n",
        "npo_jobs = {}\n",
        "url = \"https://www.programmableweb.com/apis/directory\"\n",
        "job_no=0\n",
        "while True:\n",
        "  response = requests.get(url)\n",
        "  data = response.text\n",
        "  data\n",
        "  soup = BeautifulSoup(data,'html.parser')\n",
        "  apis = soup.find_all('tr',{\"class\":[\"odd views-row-first\",\"even\",\"odd\",\"odd views-row-last\"]})\n",
        "\n",
        "  for api in apis:\n",
        "    api_name = api.find(\"td\",{\"class\":\"views-field views-field-title col-md-3\"}).text[1:-1]\n",
        "    api_url = api.find(\"a\").get(\"href\")\n",
        "    api_category = api.find(\"td\",{\"class\":\"views-field views-field-field-article-primary-category\"}).text[1:-1]\n",
        "    api_description = api.find(\"td\",{\"class\":\"views-field views-field-search-api-excerpt views-field-field-api-description hidden-xs visible-md visible-sm col-md-8\"}).text[4:-1]\n",
        " #   print(\"API NAME: \",api_name,\"\\nAPI (absolute) URL: \",str(url) + str(api_url),\"\\nCATEGORY: \",api_category, \"\\nDescription: \",api_description)\n",
        "    job_no+=1\n",
        "    npo_jobs[job_no] = [api_name,url+api_url,api_category,api_description]\n",
        " # url_tag = soup.find(\"a\",{\"title\":\"Go to next page\"})\n",
        "  #if url_tag.get(\"href\"):\n",
        "  #  url = url + url_tag.get(\"href\")\n",
        "  #else:\n",
        "  break\n",
        "api_file = pd.DataFrame.from_dict(npo_jobs,orient = \"index\", columns = [\"Name\",\"Url\",\"Catgory\",\"Description\"])  \n",
        "api_file.head()\n",
        "api_file.to_csv(\"API.csv\")\n"
      ],
      "execution_count": 0,
      "outputs": []
    },
    {
      "cell_type": "code",
      "metadata": {
        "id": "Bth-m0ErCez9",
        "colab_type": "code",
        "colab": {}
      },
      "source": [
        ""
      ],
      "execution_count": 0,
      "outputs": []
    },
    {
      "cell_type": "code",
      "metadata": {
        "id": "jTBkC5vQkgBy",
        "colab_type": "code",
        "outputId": "e4e30fab-6d55-464e-ea6d-a5fb98110b54",
        "colab": {
          "base_uri": "https://localhost:8080/",
          "height": 34
        }
      },
      "source": [
        "\n",
        "\n",
        "  "
      ],
      "execution_count": 0,
      "outputs": [
        {
          "output_type": "stream",
          "text": [
            "-3\n"
          ],
          "name": "stdout"
        }
      ]
    }
  ]
}